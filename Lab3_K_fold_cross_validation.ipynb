{
  "nbformat": 4,
  "nbformat_minor": 0,
  "metadata": {
    "colab": {
      "provenance": [],
      "authorship_tag": "ABX9TyP9sku4xQ3YXdt66BWp1lZJ"
    },
    "kernelspec": {
      "name": "python3",
      "display_name": "Python 3"
    },
    "language_info": {
      "name": "python"
    }
  },
  "cells": [
    {
      "cell_type": "markdown",
      "source": [
        "**Aim:** To perform K-Fold cross-validation.\n",
        "\n",
        "Write a program to Split the given dataset into K-train and test sets using K-Fold cross-validation."
      ],
      "metadata": {
        "id": "JQ2n3GnCr0m2"
      }
    },
    {
      "cell_type": "code",
      "execution_count": 2,
      "metadata": {
        "colab": {
          "base_uri": "https://localhost:8080/"
        },
        "id": "jA5Gxew5S9t8",
        "outputId": "72637fa5-5929-4b6b-8f03-ee0fed090af1"
      },
      "outputs": [
        {
          "output_type": "stream",
          "name": "stdout",
          "text": [
            "X_train samples\n",
            "[[-0.79281634 -0.5820131  -0.11331237 -0.10871911]\n",
            " [-1.46489221 -1.60120084  0.12895752 -0.1105267 ]\n",
            " [-0.63275567  1.13361552 -1.11872722 -0.36138881]\n",
            " [ 1.45434817  0.65795614  0.47147203  0.26983595]\n",
            " [-1.06031621 -0.38944316 -0.40180471 -0.21223675]\n",
            " [ 1.38618884  2.1423665  -0.52558691 -0.00318697]\n",
            " [ 0.25505959 -1.61123615  1.19365823  0.34402313]\n",
            " [-0.34239515  0.94737898 -0.82024442 -0.25294078]]\n",
            "X_test samples\n",
            "[[-2.05382896 -0.65984508 -0.83910226 -0.42734143]\n",
            " [ 0.82834265 -1.01996733  1.16594176  0.39335347]]\n",
            "X_train samples\n",
            "[[-2.05382896 -0.65984508 -0.83910226 -0.42734143]\n",
            " [ 0.82834265 -1.01996733  1.16594176  0.39335347]\n",
            " [-0.63275567  1.13361552 -1.11872722 -0.36138881]\n",
            " [ 1.45434817  0.65795614  0.47147203  0.26983595]\n",
            " [-1.06031621 -0.38944316 -0.40180471 -0.21223675]\n",
            " [ 1.38618884  2.1423665  -0.52558691 -0.00318697]\n",
            " [ 0.25505959 -1.61123615  1.19365823  0.34402313]\n",
            " [-0.34239515  0.94737898 -0.82024442 -0.25294078]]\n",
            "X_test samples\n",
            "[[-0.79281634 -0.5820131  -0.11331237 -0.10871911]\n",
            " [-1.46489221 -1.60120084  0.12895752 -0.1105267 ]]\n",
            "X_train samples\n",
            "[[-2.05382896 -0.65984508 -0.83910226 -0.42734143]\n",
            " [ 0.82834265 -1.01996733  1.16594176  0.39335347]\n",
            " [-0.79281634 -0.5820131  -0.11331237 -0.10871911]\n",
            " [-1.46489221 -1.60120084  0.12895752 -0.1105267 ]\n",
            " [-1.06031621 -0.38944316 -0.40180471 -0.21223675]\n",
            " [ 1.38618884  2.1423665  -0.52558691 -0.00318697]\n",
            " [ 0.25505959 -1.61123615  1.19365823  0.34402313]\n",
            " [-0.34239515  0.94737898 -0.82024442 -0.25294078]]\n",
            "X_test samples\n",
            "[[-0.63275567  1.13361552 -1.11872722 -0.36138881]\n",
            " [ 1.45434817  0.65795614  0.47147203  0.26983595]]\n",
            "X_train samples\n",
            "[[-2.05382896 -0.65984508 -0.83910226 -0.42734143]\n",
            " [ 0.82834265 -1.01996733  1.16594176  0.39335347]\n",
            " [-0.79281634 -0.5820131  -0.11331237 -0.10871911]\n",
            " [-1.46489221 -1.60120084  0.12895752 -0.1105267 ]\n",
            " [-0.63275567  1.13361552 -1.11872722 -0.36138881]\n",
            " [ 1.45434817  0.65795614  0.47147203  0.26983595]\n",
            " [ 0.25505959 -1.61123615  1.19365823  0.34402313]\n",
            " [-0.34239515  0.94737898 -0.82024442 -0.25294078]]\n",
            "X_test samples\n",
            "[[-1.06031621 -0.38944316 -0.40180471 -0.21223675]\n",
            " [ 1.38618884  2.1423665  -0.52558691 -0.00318697]]\n",
            "X_train samples\n",
            "[[-2.05382896 -0.65984508 -0.83910226 -0.42734143]\n",
            " [ 0.82834265 -1.01996733  1.16594176  0.39335347]\n",
            " [-0.79281634 -0.5820131  -0.11331237 -0.10871911]\n",
            " [-1.46489221 -1.60120084  0.12895752 -0.1105267 ]\n",
            " [-0.63275567  1.13361552 -1.11872722 -0.36138881]\n",
            " [ 1.45434817  0.65795614  0.47147203  0.26983595]\n",
            " [-1.06031621 -0.38944316 -0.40180471 -0.21223675]\n",
            " [ 1.38618884  2.1423665  -0.52558691 -0.00318697]]\n",
            "X_test samples\n",
            "[[ 0.25505959 -1.61123615  1.19365823  0.34402313]\n",
            " [-0.34239515  0.94737898 -0.82024442 -0.25294078]]\n",
            "K-Fold Cross-Validation Scores: [1.0, 1.0, 1.0, 0.5, 1.0]\n",
            "Mean Accuracy: 0.9\n"
          ]
        }
      ],
      "source": [
        "from sklearn.datasets import make_classification\n",
        "import pandas as pd\n",
        "\n",
        "X,y=make_classification(n_samples=10,n_features=4,n_classes=2)\n",
        "import numpy as np\n",
        "def kfold_indices(data, k):\n",
        "    fold_size = len(data) // k\n",
        "    indices = np.arange(len(data))\n",
        "    folds = []\n",
        "    for i in range(k):\n",
        "        test_indices = indices[i * fold_size: (i + 1) * fold_size]\n",
        "        train_indices = np.concatenate([indices[:i * fold_size], indices[(i + 1) * fold_size:]])\n",
        "        folds.append((train_indices, test_indices))\n",
        "    return folds\n",
        "\n",
        "# Define the number of folds (K)\n",
        "k = 5\n",
        "\n",
        "# Get the fold indices\n",
        "fold_indices = kfold_indices(X, k)\n",
        "\n",
        "from sklearn.metrics import accuracy_score\n",
        "from sklearn.tree import DecisionTreeClassifier  # import ML  model\n",
        "\n",
        "# Initialize the machine learning model\n",
        "model = DecisionTreeClassifier()\n",
        "\n",
        "# Initialize a list to store the evaluation scores\n",
        "scores = []\n",
        "\n",
        "# Iterate through each fold\n",
        "for train_indices, test_indices in fold_indices:\n",
        "    X_train, y_train = X[train_indices], y[train_indices]\n",
        "    X_test, y_test = X[test_indices], y[test_indices]\n",
        "\n",
        "    print('X_train samples')\n",
        "    print(X_train)\n",
        "    print('X_test samples')\n",
        "    print(X_test)\n",
        "    # Train the model on the training data\n",
        "    model.fit(X_train, y_train)\n",
        "\n",
        "    # Make predictions on the test data\n",
        "    y_pred = model.predict(X_test)\n",
        "\n",
        "    # Calculate the accuracy score for this fold\n",
        "    fold_score = accuracy_score(y_test, y_pred)\n",
        "\n",
        "    # Append the fold score to the list of scores\n",
        "    scores.append(fold_score)\n",
        "\n",
        "# Calculate the mean accuracy across all folds\n",
        "mean_accuracy = np.mean(scores)\n",
        "print(\"K-Fold Cross-Validation Scores:\", scores)\n",
        "print(\"Mean Accuracy:\", mean_accuracy)\n"
      ]
    }
  ]
}