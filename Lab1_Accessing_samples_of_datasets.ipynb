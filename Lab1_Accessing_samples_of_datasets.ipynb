{
  "nbformat": 4,
  "nbformat_minor": 0,
  "metadata": {
    "colab": {
      "provenance": [],
      "authorship_tag": "ABX9TyNxs1KQfc7SThEc9t8NQL9j"
    },
    "kernelspec": {
      "name": "python3",
      "display_name": "Python 3"
    },
    "language_info": {
      "name": "python"
    }
  },
  "cells": [
    {
      "cell_type": "markdown",
      "source": [
        "**Lab 1**\n",
        "\n",
        "Aim:\n",
        "To access and observe the samples from  \n",
        "(a) iris dataset\n",
        "(b) digits dataset\n",
        "(c) diabetes dataset"
      ],
      "metadata": {
        "id": "O-NKe-15A4E8"
      }
    },
    {
      "cell_type": "markdown",
      "source": [
        "### 1.a) Program to access and observe the samples from iris dataset."
      ],
      "metadata": {
        "id": "4mTQPA5op8QJ"
      }
    },
    {
      "cell_type": "code",
      "execution_count": null,
      "metadata": {
        "colab": {
          "base_uri": "https://localhost:8080/"
        },
        "id": "aPP4awob-vSy",
        "outputId": "8bbb9ede-eec2-4d80-d5bd-52e4abb688ca"
      },
      "outputs": [
        {
          "output_type": "stream",
          "name": "stdout",
          "text": [
            "THIS IS  THE PROGRAM TO ACCESS  IRIS DATASET\n",
            " To print the description of Iris Dataset\n",
            ".. _iris_dataset:\n",
            "\n",
            "Iris plants dataset\n",
            "--------------------\n",
            "\n",
            "**Data Set Characteristics:**\n",
            "\n",
            "    :Number of Instances: 150 (50 in each of three classes)\n",
            "    :Number of Attributes: 4 numeric, predictive attributes and the class\n",
            "    :Attribute Information:\n",
            "        - sepal length in cm\n",
            "        - sepal width in cm\n",
            "        - petal length in cm\n",
            "        - petal width in cm\n",
            "        - class:\n",
            "                - Iris-Setosa\n",
            "                - Iris-Versicolour\n",
            "                - Iris-Virginica\n",
            "                \n",
            "    :Summary Statistics:\n",
            "\n",
            "    ============== ==== ==== ======= ===== ====================\n",
            "                    Min  Max   Mean    SD   Class Correlation\n",
            "    ============== ==== ==== ======= ===== ====================\n",
            "    sepal length:   4.3  7.9   5.84   0.83    0.7826\n",
            "    sepal width:    2.0  4.4   3.05   0.43   -0.4194\n",
            "    petal length:   1.0  6.9   3.76   1.76    0.9490  (high!)\n",
            "    petal width:    0.1  2.5   1.20   0.76    0.9565  (high!)\n",
            "    ============== ==== ==== ======= ===== ====================\n",
            "\n",
            "    :Missing Attribute Values: None\n",
            "    :Class Distribution: 33.3% for each of 3 classes.\n",
            "    :Creator: R.A. Fisher\n",
            "    :Donor: Michael Marshall (MARSHALL%PLU@io.arc.nasa.gov)\n",
            "    :Date: July, 1988\n",
            "\n",
            "The famous Iris database, first used by Sir R.A. Fisher. The dataset is taken\n",
            "from Fisher's paper. Note that it's the same as in R, but not as in the UCI\n",
            "Machine Learning Repository, which has two wrong data points.\n",
            "\n",
            "This is perhaps the best known database to be found in the\n",
            "pattern recognition literature.  Fisher's paper is a classic in the field and\n",
            "is referenced frequently to this day.  (See Duda & Hart, for example.)  The\n",
            "data set contains 3 classes of 50 instances each, where each class refers to a\n",
            "type of iris plant.  One class is linearly separable from the other 2; the\n",
            "latter are NOT linearly separable from each other.\n",
            "\n",
            ".. topic:: References\n",
            "\n",
            "   - Fisher, R.A. \"The use of multiple measurements in taxonomic problems\"\n",
            "     Annual Eugenics, 7, Part II, 179-188 (1936); also in \"Contributions to\n",
            "     Mathematical Statistics\" (John Wiley, NY, 1950).\n",
            "   - Duda, R.O., & Hart, P.E. (1973) Pattern Classification and Scene Analysis.\n",
            "     (Q327.D83) John Wiley & Sons.  ISBN 0-471-22361-1.  See page 218.\n",
            "   - Dasarathy, B.V. (1980) \"Nosing Around the Neighborhood: A New System\n",
            "     Structure and Classification Rule for Recognition in Partially Exposed\n",
            "     Environments\".  IEEE Transactions on Pattern Analysis and Machine\n",
            "     Intelligence, Vol. PAMI-2, No. 1, 67-71.\n",
            "   - Gates, G.W. (1972) \"The Reduced Nearest Neighbor Rule\".  IEEE Transactions\n",
            "     on Information Theory, May 1972, 431-433.\n",
            "   - See also: 1988 MLC Proceedings, 54-64.  Cheeseman et al\"s AUTOCLASS II\n",
            "     conceptual clustering system finds 3 classes in the data.\n",
            "   - Many, many more ...\n",
            "\n",
            "\n",
            "\n",
            "\n",
            "\n"
          ]
        }
      ],
      "source": [
        "from sklearn import datasets\n",
        "import pandas as pd\n",
        "print('THIS IS  THE PROGRAM TO ACCESS  IRIS DATASET')\n",
        "iris=datasets.load_iris()\n",
        "print(\" To print the description of Iris Dataset\")\n",
        "print(iris.DESCR)\n",
        "print('\\n\\n\\n\\n')"
      ]
    },
    {
      "cell_type": "code",
      "source": [
        "# df will fold dataset as a table\n",
        "df=pd.DataFrame( iris.data, columns=iris.feature_names )\n",
        "#labels are assigned to df[target] table or array\n",
        "df['target']=pd.Series( iris.target)\n",
        "df['target_names']=df['target'].apply(lambda y:iris.target_names[y])"
      ],
      "metadata": {
        "id": "eO_HkNOTAK6b"
      },
      "execution_count": null,
      "outputs": []
    },
    {
      "cell_type": "code",
      "source": [
        "print('To display First 5 samples')\n",
        "# df.head(5) will return the first five samples in the dataset\n",
        "print(df.head(5))\n",
        "\n",
        "print('To display randomly 5 samples')\n",
        "#df.sample(5) will return randomly five samples from the dataset\n",
        "print(df.sample(5))"
      ],
      "metadata": {
        "colab": {
          "base_uri": "https://localhost:8080/"
        },
        "id": "I-ND3s0CANGi",
        "outputId": "6374384c-eed3-4036-adb1-aa3c865c6ac1"
      },
      "execution_count": null,
      "outputs": [
        {
          "output_type": "stream",
          "name": "stdout",
          "text": [
            "To display First 5 samples\n",
            "   sepal length (cm)  sepal width (cm)  petal length (cm)  petal width (cm)  \\\n",
            "0                5.1               3.5                1.4               0.2   \n",
            "1                4.9               3.0                1.4               0.2   \n",
            "2                4.7               3.2                1.3               0.2   \n",
            "3                4.6               3.1                1.5               0.2   \n",
            "4                5.0               3.6                1.4               0.2   \n",
            "\n",
            "   target target_names  \n",
            "0       0       setosa  \n",
            "1       0       setosa  \n",
            "2       0       setosa  \n",
            "3       0       setosa  \n",
            "4       0       setosa  \n",
            "To display randomly 5 samples\n",
            "     sepal length (cm)  sepal width (cm)  petal length (cm)  petal width (cm)  \\\n",
            "49                 5.0               3.3                1.4               0.2   \n",
            "129                7.2               3.0                5.8               1.6   \n",
            "84                 5.4               3.0                4.5               1.5   \n",
            "114                5.8               2.8                5.1               2.4   \n",
            "38                 4.4               3.0                1.3               0.2   \n",
            "\n",
            "     target target_names  \n",
            "49        0       setosa  \n",
            "129       2    virginica  \n",
            "84        1   versicolor  \n",
            "114       2    virginica  \n",
            "38        0       setosa  \n"
          ]
        }
      ]
    },
    {
      "cell_type": "code",
      "source": [
        "# Train Test Split Ratio\n",
        "from sklearn.model_selection import train_test_split\n",
        "df_train,df_test=train_test_split(df,test_size=0.3) # For 70: 30 Split\n",
        "\n",
        "print('The total number of samples in the dataset = ',df.shape[0])\n",
        "print('The number of samples  in training set = ',df_train.shape[0])\n",
        "print('The number of samples  in testing set = ',df_test.shape[0])"
      ],
      "metadata": {
        "colab": {
          "base_uri": "https://localhost:8080/"
        },
        "id": "c8mGEpn2AT16",
        "outputId": "96f92133-cfc2-4776-ecdb-b7b8423cca92"
      },
      "execution_count": null,
      "outputs": [
        {
          "output_type": "stream",
          "name": "stdout",
          "text": [
            "The total number of samples in the dataset =  150\n",
            "The number of samples  in training set =  105\n",
            "The number of samples  in testing set =  45\n"
          ]
        }
      ]
    },
    {
      "cell_type": "code",
      "source": [
        "print('The first five samples of training set')\n",
        "print(df_train.head(5))\n",
        "print('\\n\\nThe first five samples of testing set')\n",
        "print(df_test.head(5))"
      ],
      "metadata": {
        "colab": {
          "base_uri": "https://localhost:8080/"
        },
        "id": "hnQEEPelAUeM",
        "outputId": "8e096007-b1e3-4f77-a31f-405348b65931"
      },
      "execution_count": null,
      "outputs": [
        {
          "output_type": "stream",
          "name": "stdout",
          "text": [
            "The first five samples of training set\n",
            "     sepal length (cm)  sepal width (cm)  petal length (cm)  petal width (cm)  \\\n",
            "16                 5.4               3.9                1.3               0.4   \n",
            "119                6.0               2.2                5.0               1.5   \n",
            "96                 5.7               2.9                4.2               1.3   \n",
            "110                6.5               3.2                5.1               2.0   \n",
            "100                6.3               3.3                6.0               2.5   \n",
            "\n",
            "     target target_names  \n",
            "16        0       setosa  \n",
            "119       2    virginica  \n",
            "96        1   versicolor  \n",
            "110       2    virginica  \n",
            "100       2    virginica  \n",
            "\n",
            "\n",
            "The first five samples of testing set\n",
            "     sepal length (cm)  sepal width (cm)  petal length (cm)  petal width (cm)  \\\n",
            "67                 5.8               2.7                4.1               1.0   \n",
            "58                 6.6               2.9                4.6               1.3   \n",
            "108                6.7               2.5                5.8               1.8   \n",
            "114                5.8               2.8                5.1               2.4   \n",
            "26                 5.0               3.4                1.6               0.4   \n",
            "\n",
            "     target target_names  \n",
            "67        1   versicolor  \n",
            "58        1   versicolor  \n",
            "108       2    virginica  \n",
            "114       2    virginica  \n",
            "26        0       setosa  \n"
          ]
        }
      ]
    },
    {
      "cell_type": "code",
      "source": [
        "print(df.shape)\n",
        "print(df_train.shape)\n",
        "print(df_test.shape)"
      ],
      "metadata": {
        "colab": {
          "base_uri": "https://localhost:8080/"
        },
        "id": "iwfT4zKrIIC3",
        "outputId": "eba286b1-b435-4b18-f453-8bbf135fc1fe"
      },
      "execution_count": null,
      "outputs": [
        {
          "output_type": "stream",
          "name": "stdout",
          "text": [
            "(150, 6)\n",
            "(105, 6)\n",
            "(45, 6)\n"
          ]
        }
      ]
    },
    {
      "cell_type": "markdown",
      "source": [
        "###1.b) To access and observe the samples from digits dataset."
      ],
      "metadata": {
        "id": "UGllyftnAz4O"
      }
    },
    {
      "cell_type": "code",
      "source": [
        "from sklearn import datasets\n",
        "import pandas as pd\n",
        "print('THIS IS  THE PROGRAM TO ACCESS  DIGITS DATASET')\n",
        "digit=datasets.load_digits()\n",
        "print(\" To print the description of Digits Dataset\")\n",
        "print(digit.DESCR)\n",
        "print('\\n\\n\\n\\n')\n",
        "\n",
        "# df will fold dataset as a table\n",
        "df=pd.DataFrame( digit.data, columns=digit.feature_names )\n",
        "#labels are assigned to df[target] table or array\n",
        "df['target']=pd.Series( digit.target )\n",
        "df['target_names']=df['target'].apply(lambda y:digit.target_names[y])\n",
        "\n",
        "print('To display First 5 samples')\n",
        "# df.head(5) will return the first five samples in the dataset\n",
        "print(df.head(5))\n",
        "\n",
        "print('To display randomply 5 samples')\n",
        "#df.sample(5) will return randomly five samples from the dataset\n",
        "print(df.sample(5))\n",
        "\n",
        "# Train Test Split Ratio\n",
        "from sklearn.model_selection import train_test_split\n",
        "df_train,df_test=train_test_split(df,test_size=0.3) # For 70: 30 Split\n",
        "\n",
        "print('The total number of samples in the dataset = ',df.shape[0])\n",
        "print('The number of samples  in training set = ',df_train.shape[0])\n",
        "print('The number of samples  in testing set = ',df_test.shape[0])\n",
        "\n",
        "print('The first five samples of training set')\n",
        "print(df_train.head(5))\n",
        "print('\\n\\nThe first five samples of testing set')\n",
        "print(df_test.head(5))\n"
      ],
      "metadata": {
        "colab": {
          "base_uri": "https://localhost:8080/"
        },
        "id": "cg5LIzxdAlKc",
        "outputId": "54b4c1cd-9005-4552-eeae-819594ea8dd5"
      },
      "execution_count": null,
      "outputs": [
        {
          "output_type": "stream",
          "name": "stdout",
          "text": [
            "THIS IS  THE PROGRAM TO ACCESS  DIGITS DATASET\n",
            " To print the description of Digits Dataset\n",
            ".. _digits_dataset:\n",
            "\n",
            "Optical recognition of handwritten digits dataset\n",
            "--------------------------------------------------\n",
            "\n",
            "**Data Set Characteristics:**\n",
            "\n",
            "    :Number of Instances: 1797\n",
            "    :Number of Attributes: 64\n",
            "    :Attribute Information: 8x8 image of integer pixels in the range 0..16.\n",
            "    :Missing Attribute Values: None\n",
            "    :Creator: E. Alpaydin (alpaydin '@' boun.edu.tr)\n",
            "    :Date: July; 1998\n",
            "\n",
            "This is a copy of the test set of the UCI ML hand-written digits datasets\n",
            "https://archive.ics.uci.edu/ml/datasets/Optical+Recognition+of+Handwritten+Digits\n",
            "\n",
            "The data set contains images of hand-written digits: 10 classes where\n",
            "each class refers to a digit.\n",
            "\n",
            "Preprocessing programs made available by NIST were used to extract\n",
            "normalized bitmaps of handwritten digits from a preprinted form. From a\n",
            "total of 43 people, 30 contributed to the training set and different 13\n",
            "to the test set. 32x32 bitmaps are divided into nonoverlapping blocks of\n",
            "4x4 and the number of on pixels are counted in each block. This generates\n",
            "an input matrix of 8x8 where each element is an integer in the range\n",
            "0..16. This reduces dimensionality and gives invariance to small\n",
            "distortions.\n",
            "\n",
            "For info on NIST preprocessing routines, see M. D. Garris, J. L. Blue, G.\n",
            "T. Candela, D. L. Dimmick, J. Geist, P. J. Grother, S. A. Janet, and C.\n",
            "L. Wilson, NIST Form-Based Handprint Recognition System, NISTIR 5469,\n",
            "1994.\n",
            "\n",
            ".. topic:: References\n",
            "\n",
            "  - C. Kaynak (1995) Methods of Combining Multiple Classifiers and Their\n",
            "    Applications to Handwritten Digit Recognition, MSc Thesis, Institute of\n",
            "    Graduate Studies in Science and Engineering, Bogazici University.\n",
            "  - E. Alpaydin, C. Kaynak (1998) Cascading Classifiers, Kybernetika.\n",
            "  - Ken Tang and Ponnuthurai N. Suganthan and Xi Yao and A. Kai Qin.\n",
            "    Linear dimensionalityreduction using relevance weighted LDA. School of\n",
            "    Electrical and Electronic Engineering Nanyang Technological University.\n",
            "    2005.\n",
            "  - Claudio Gentile. A New Approximate Maximal Margin Classification\n",
            "    Algorithm. NIPS. 2000.\n",
            "\n",
            "\n",
            "\n",
            "\n",
            "\n",
            "\n",
            "To display First 5 samples\n",
            "   pixel_0_0  pixel_0_1  pixel_0_2  pixel_0_3  pixel_0_4  pixel_0_5  \\\n",
            "0        0.0        0.0        5.0       13.0        9.0        1.0   \n",
            "1        0.0        0.0        0.0       12.0       13.0        5.0   \n",
            "2        0.0        0.0        0.0        4.0       15.0       12.0   \n",
            "3        0.0        0.0        7.0       15.0       13.0        1.0   \n",
            "4        0.0        0.0        0.0        1.0       11.0        0.0   \n",
            "\n",
            "   pixel_0_6  pixel_0_7  pixel_1_0  pixel_1_1  ...  pixel_7_0  pixel_7_1  \\\n",
            "0        0.0        0.0        0.0        0.0  ...        0.0        0.0   \n",
            "1        0.0        0.0        0.0        0.0  ...        0.0        0.0   \n",
            "2        0.0        0.0        0.0        0.0  ...        0.0        0.0   \n",
            "3        0.0        0.0        0.0        8.0  ...        0.0        0.0   \n",
            "4        0.0        0.0        0.0        0.0  ...        0.0        0.0   \n",
            "\n",
            "   pixel_7_2  pixel_7_3  pixel_7_4  pixel_7_5  pixel_7_6  pixel_7_7  target  \\\n",
            "0        6.0       13.0       10.0        0.0        0.0        0.0       0   \n",
            "1        0.0       11.0       16.0       10.0        0.0        0.0       1   \n",
            "2        0.0        3.0       11.0       16.0        9.0        0.0       2   \n",
            "3        7.0       13.0       13.0        9.0        0.0        0.0       3   \n",
            "4        0.0        2.0       16.0        4.0        0.0        0.0       4   \n",
            "\n",
            "   target_names  \n",
            "0             0  \n",
            "1             1  \n",
            "2             2  \n",
            "3             3  \n",
            "4             4  \n",
            "\n",
            "[5 rows x 66 columns]\n",
            "To display randomply 5 samples\n",
            "      pixel_0_0  pixel_0_1  pixel_0_2  pixel_0_3  pixel_0_4  pixel_0_5  \\\n",
            "603         0.0        0.0        2.0       15.0        6.0        0.0   \n",
            "1484        0.0        1.0       10.0       13.0        9.0        2.0   \n",
            "1295        0.0        0.0        4.0       15.0       13.0        3.0   \n",
            "221         0.0        0.0        0.0        4.0       14.0       14.0   \n",
            "1529        0.0        0.0        1.0       10.0       16.0       15.0   \n",
            "\n",
            "      pixel_0_6  pixel_0_7  pixel_1_0  pixel_1_1  ...  pixel_7_0  pixel_7_1  \\\n",
            "603         0.0        0.0        0.0        0.0  ...        0.0        0.0   \n",
            "1484        0.0        0.0        0.0        2.0  ...        0.0        0.0   \n",
            "1295        0.0        0.0        0.0        4.0  ...        0.0        0.0   \n",
            "221         5.0        0.0        0.0        0.0  ...        0.0        0.0   \n",
            "1529        5.0        0.0        0.0        0.0  ...        0.0        0.0   \n",
            "\n",
            "      pixel_7_2  pixel_7_3  pixel_7_4  pixel_7_5  pixel_7_6  pixel_7_7  \\\n",
            "603         2.0       16.0        7.0        0.0        0.0        0.0   \n",
            "1484       11.0       16.0       16.0       14.0        3.0        0.0   \n",
            "1295        5.0       15.0       16.0        5.0        0.0        0.0   \n",
            "221         0.0        4.0       14.0       15.0        6.0        0.0   \n",
            "1529        0.0       10.0       15.0        5.0        0.0        0.0   \n",
            "\n",
            "      target  target_names  \n",
            "603        4             4  \n",
            "1484       9             9  \n",
            "1295       8             8  \n",
            "221        1             1  \n",
            "1529       8             8  \n",
            "\n",
            "[5 rows x 66 columns]\n",
            "The total number of samples in the dataset =  1797\n",
            "The number of samples  in training set =  1257\n",
            "The number of samples  in testing set =  540\n",
            "The first five samples of training set\n",
            "      pixel_0_0  pixel_0_1  pixel_0_2  pixel_0_3  pixel_0_4  pixel_0_5  \\\n",
            "1728        0.0        0.0        2.0       14.0       16.0        8.0   \n",
            "1349        0.0        0.0        5.0       15.0       16.0       15.0   \n",
            "686         0.0        0.0        4.0       12.0       16.0        6.0   \n",
            "904         0.0        0.0        4.0       11.0       12.0       14.0   \n",
            "1786        0.0        0.0        4.0       14.0       15.0        6.0   \n",
            "\n",
            "      pixel_0_6  pixel_0_7  pixel_1_0  pixel_1_1  ...  pixel_7_0  pixel_7_1  \\\n",
            "1728        0.0        0.0        0.0        0.0  ...        0.0        0.0   \n",
            "1349        1.0        0.0        0.0       10.0  ...        0.0        0.0   \n",
            "686         0.0        0.0        0.0        4.0  ...        0.0        0.0   \n",
            "904         0.0        0.0        0.0        0.0  ...        0.0        0.0   \n",
            "1786        0.0        0.0        0.0        5.0  ...        0.0        0.0   \n",
            "\n",
            "      pixel_7_2  pixel_7_3  pixel_7_4  pixel_7_5  pixel_7_6  pixel_7_7  \\\n",
            "1728        2.0       16.0        7.0        0.0        0.0        0.0   \n",
            "1349        5.0       15.0       16.0       14.0        3.0        0.0   \n",
            "686         6.0       13.0       13.0        8.0        0.0        0.0   \n",
            "904         7.0       13.0       16.0       14.0        1.0        0.0   \n",
            "1786        4.0       13.0       15.0        9.0        0.0        0.0   \n",
            "\n",
            "      target  target_names  \n",
            "1728       7             7  \n",
            "1349       3             3  \n",
            "686        8             8  \n",
            "904        9             9  \n",
            "1786       9             9  \n",
            "\n",
            "[5 rows x 66 columns]\n",
            "\n",
            "\n",
            "The first five samples of testing set\n",
            "      pixel_0_0  pixel_0_1  pixel_0_2  pixel_0_3  pixel_0_4  pixel_0_5  \\\n",
            "957         0.0        0.0        3.0       12.0        9.0        0.0   \n",
            "1306        0.0        0.0        8.0       16.0        4.0        0.0   \n",
            "655         0.0        0.0        0.0        3.0       13.0       16.0   \n",
            "94          0.0        0.0        3.0       12.0       16.0       10.0   \n",
            "1456        0.0        0.0        0.0        5.0       15.0        2.0   \n",
            "\n",
            "      pixel_0_6  pixel_0_7  pixel_1_0  pixel_1_1  ...  pixel_7_0  pixel_7_1  \\\n",
            "957         0.0        0.0        0.0        0.0  ...        0.0        0.0   \n",
            "1306        0.0        0.0        0.0        6.0  ...        0.0        0.0   \n",
            "655        11.0        0.0        0.0        0.0  ...        0.0        0.0   \n",
            "94          0.0        0.0        0.0        2.0  ...        0.0        0.0   \n",
            "1456        0.0        0.0        0.0        0.0  ...        0.0        0.0   \n",
            "\n",
            "      pixel_7_2  pixel_7_3  pixel_7_4  pixel_7_5  pixel_7_6  pixel_7_7  \\\n",
            "957         6.0       16.0       15.0        5.0        0.0        0.0   \n",
            "1306        8.0        9.0       13.0        7.0        0.0        0.0   \n",
            "655         0.0        3.0       16.0        4.0        0.0        0.0   \n",
            "94          5.0       13.0        0.0        0.0        0.0        0.0   \n",
            "1456        0.0        6.0       16.0        2.0        0.0        0.0   \n",
            "\n",
            "      target  target_names  \n",
            "957        0             0  \n",
            "1306       9             9  \n",
            "655        9             9  \n",
            "94         7             7  \n",
            "1456       4             4  \n",
            "\n",
            "[5 rows x 66 columns]\n"
          ]
        }
      ]
    },
    {
      "cell_type": "markdown",
      "source": [
        "### 1.c) to access and observe the samples from diabetes dataset."
      ],
      "metadata": {
        "id": "5XQPWqAEChVS"
      }
    },
    {
      "cell_type": "code",
      "source": [
        "from sklearn import datasets\n",
        "import pandas as pd\n",
        "print('THIS IS  THE PROGRAM TO ACCESS  DIABETES DATASET')\n",
        "dbt=datasets.load_diabetes()\n",
        "print(\" To print the description of Digits Dataset\")\n",
        "print(dbt.DESCR)\n",
        "print('\\n\\n\\n\\n')\n",
        "\n",
        "# df will fold dataset as a table\n",
        "df=pd.DataFrame( dbt.data, columns=dbt.feature_names )\n",
        "\n",
        "#labels are assigned to df[target] table or array\n",
        "df['target']=pd.Series( dbt.target )\n",
        "\n",
        "print('To display First 5 samples')\n",
        "# df.head(5) will return the first five samples in the dataset print(df.head(5))\n",
        "print('To display randomply 5 samples')\n",
        "#df.sample(5) will return randomly five samples from the dataset print(df.sample(5))\n",
        "\n",
        "# Train Test Split Ratio\n",
        "from sklearn.model_selection import train_test_split\n",
        "df_train,df_test=train_test_split(df,test_size=0.3) # For 70: 30 Split\n",
        "print('The total number of samples in the dataset = ',df.shape[0])\n",
        "print('The number of samples  in training set = ',df_train.shape[0])\n",
        "print('The number of samples  in testing set = ',df_test.shape[0])\n",
        "\n",
        "print('The first five samples of training set')\n",
        "print(df_train.head(5))\n",
        "print('\\n\\nThe first five samples of testing set')\n",
        "print(df_test.head(5))"
      ],
      "metadata": {
        "colab": {
          "base_uri": "https://localhost:8080/"
        },
        "id": "hJIsZLk2CflF",
        "outputId": "855bc14c-55d4-421d-f61c-6e45135562d7"
      },
      "execution_count": null,
      "outputs": [
        {
          "output_type": "stream",
          "name": "stdout",
          "text": [
            "THIS IS  THE PROGRAM TO ACCESS  DIABETES DATASET\n",
            " To print the description of Digits Dataset\n",
            ".. _diabetes_dataset:\n",
            "\n",
            "Diabetes dataset\n",
            "----------------\n",
            "\n",
            "Ten baseline variables, age, sex, body mass index, average blood\n",
            "pressure, and six blood serum measurements were obtained for each of n =\n",
            "442 diabetes patients, as well as the response of interest, a\n",
            "quantitative measure of disease progression one year after baseline.\n",
            "\n",
            "**Data Set Characteristics:**\n",
            "\n",
            "  :Number of Instances: 442\n",
            "\n",
            "  :Number of Attributes: First 10 columns are numeric predictive values\n",
            "\n",
            "  :Target: Column 11 is a quantitative measure of disease progression one year after baseline\n",
            "\n",
            "  :Attribute Information:\n",
            "      - age     age in years\n",
            "      - sex\n",
            "      - bmi     body mass index\n",
            "      - bp      average blood pressure\n",
            "      - s1      tc, total serum cholesterol\n",
            "      - s2      ldl, low-density lipoproteins\n",
            "      - s3      hdl, high-density lipoproteins\n",
            "      - s4      tch, total cholesterol / HDL\n",
            "      - s5      ltg, possibly log of serum triglycerides level\n",
            "      - s6      glu, blood sugar level\n",
            "\n",
            "Note: Each of these 10 feature variables have been mean centered and scaled by the standard deviation times the square root of `n_samples` (i.e. the sum of squares of each column totals 1).\n",
            "\n",
            "Source URL:\n",
            "https://www4.stat.ncsu.edu/~boos/var.select/diabetes.html\n",
            "\n",
            "For more information see:\n",
            "Bradley Efron, Trevor Hastie, Iain Johnstone and Robert Tibshirani (2004) \"Least Angle Regression,\" Annals of Statistics (with discussion), 407-499.\n",
            "(https://web.stanford.edu/~hastie/Papers/LARS/LeastAngle_2002.pdf)\n",
            "\n",
            "\n",
            "\n",
            "\n",
            "\n",
            "\n",
            "To display First 5 samples\n",
            "To display randomply 5 samples\n",
            "The total number of samples in the dataset =  442\n",
            "The number of samples  in training set =  309\n",
            "The number of samples  in testing set =  133\n",
            "The first five samples of training set\n",
            "          age       sex       bmi        bp        s1        s2        s3  \\\n",
            "286 -0.038207 -0.044642 -0.054707 -0.077970 -0.033216 -0.086490  0.140681   \n",
            "295 -0.052738  0.050680  0.039062 -0.040099 -0.005697 -0.012900  0.011824   \n",
            "363 -0.049105  0.050680 -0.024529  0.000079 -0.046975 -0.028245 -0.065491   \n",
            "284  0.041708  0.050680 -0.022373  0.028758 -0.066239 -0.045155 -0.061809   \n",
            "322  0.023546  0.050680  0.061696  0.062050  0.024574 -0.036073 -0.091262   \n",
            "\n",
            "           s4        s5        s6  target  \n",
            "286 -0.076395 -0.019198 -0.005220    60.0  \n",
            "295 -0.039493  0.016307  0.003064    85.0  \n",
            "363  0.028405  0.019196  0.011349    58.0  \n",
            "284 -0.002592  0.002861 -0.054925   156.0  \n",
            "322  0.155345  0.133397  0.081764   242.0  \n",
            "\n",
            "\n",
            "The first five samples of testing set\n",
            "          age       sex       bmi        bp        s1        s2        s3  \\\n",
            "261  0.048974 -0.044642 -0.041774  0.104501  0.035582 -0.025739  0.177497   \n",
            "275 -0.005515  0.050680 -0.011595  0.011544 -0.022208 -0.015406 -0.021311   \n",
            "260  0.041708 -0.044642 -0.008362 -0.057313  0.008063 -0.031376  0.151726   \n",
            "139  0.023546 -0.044642  0.061696  0.052858 -0.034592 -0.048912 -0.028674   \n",
            "349  0.001751  0.050680 -0.057941 -0.043542 -0.096510 -0.047034 -0.098625   \n",
            "\n",
            "           s4        s5        s6  target  \n",
            "261 -0.076395 -0.012909  0.015491   103.0  \n",
            "275 -0.002592  0.011011  0.069338    94.0  \n",
            "260 -0.076395 -0.080237 -0.017646    39.0  \n",
            "139 -0.002592  0.054720 -0.005220   281.0  \n",
            "349  0.034309 -0.061176 -0.071494    88.0  \n"
          ]
        }
      ]
    }
  ]
}